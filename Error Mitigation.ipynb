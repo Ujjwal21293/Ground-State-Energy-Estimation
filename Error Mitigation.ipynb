{
 "cells": [
  {
   "cell_type": "markdown",
   "metadata": {},
   "source": [
    "# Error Mitigation Analysis\n",
    "This is a general error mitigation technique which has used filtering methods via Qiskit Ignis"
   ]
  },
  {
   "cell_type": "code",
   "execution_count": null,
   "metadata": {},
   "outputs": [],
   "source": [
    "from qiskit.ignis.mitigation.measurement import CompleteMeasFitter, complete_meas_cal\n",
    "from qiskit.visualization import plot_histogram\n",
    "from qiskit import execute\n",
    "import matplotlib.pyplot as plt"
   ]
  },
  {
   "cell_type": "markdown",
   "metadata": {},
   "source": [
    "### Measurement Calibration Circuits"
   ]
  },
  {
   "cell_type": "code",
   "execution_count": null,
   "metadata": {},
   "outputs": [],
   "source": [
    "from qiskit import QuantumRegister, ClassicalRegister, QuantumCircuit\n",
    "\n",
    "qr = QuantumRegister(12)\n",
    "cr = ClassicalRegister(12)\n",
    "meas_calibs, state_labels = complete_meas_cal(qubit_list=[0,1,2,3,4,5,6,7,8,9,10,11], qr=qr, cr=cr, circlabel='mcal')"
   ]
  },
  {
   "cell_type": "code",
   "execution_count": null,
   "metadata": {},
   "outputs": [],
   "source": [
    "# Run the job as on the previous notebook\n",
    "job_cal = execute(meas_calibs, backend=backend, shots=8192)\n",
    "from qiskit.tools.monitor import job_monitor\n",
    "job_monitor(job_cal)\n",
    "cal_results = job_cal.result()"
   ]
  },
  {
   "cell_type": "markdown",
   "metadata": {},
   "source": [
    "### Build and Apply Filter"
   ]
  },
  {
   "cell_type": "code",
   "execution_count": null,
   "metadata": {},
   "outputs": [],
   "source": [
    "meas_fitter = CompleteMeasFitter(cal_results, state_labels, circlabel='mcal')\n",
    "meas_filter = meas_fitter.filter"
   ]
  },
  {
   "cell_type": "markdown",
   "metadata": {},
   "source": [
    "### Filter the Raw VQE Measurement Results"
   ]
  },
  {
   "cell_type": "code",
   "execution_count": null,
   "metadata": {},
   "outputs": [],
   "source": [
    "# Filtering the raw counts\n",
    "mitigated_counts = meas_filter.apply(counts)\n",
    "plot_histogram([counts, mitigated_counts], legend=['raw', 'mitigated'])"
   ]
  }
 ],
 "metadata": {
  "kernelspec": {
   "display_name": "Python 3",
   "language": "python",
   "name": "python3"
  },
  "language_info": {
   "name": "python",
   "version": "3.9"
  }
 },
 "nbformat": 4,
 "nbformat_minor": 2
}
